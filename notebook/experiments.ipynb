{
 "cells": [
  {
   "cell_type": "code",
   "execution_count": 1,
   "id": "b9134343",
   "metadata": {},
   "outputs": [
    {
     "name": "stdout",
     "output_type": "stream",
     "text": [
      "hello\n"
     ]
    }
   ],
   "source": [
    "print(\"hello\")"
   ]
  },
  {
   "cell_type": "code",
   "execution_count": 6,
   "id": "e258c6ef",
   "metadata": {},
   "outputs": [],
   "source": [
    "import dspy\n",
    "\n",
    "# Use the exact model name you pulled with Ollama (see `ollama list`)\n",
    "import dspy\n",
    "lm = dspy.LM(\"ollama_chat/phi3.5:3.8b-mini-instruct-q4_K_M\", api_base=\"http://localhost:11434\", api_key=\"\")\n",
    "dspy.configure(lm=lm)"
   ]
  },
  {
   "cell_type": "code",
   "execution_count": null,
   "id": "7ca324be",
   "metadata": {},
   "outputs": [
    {
     "name": "stdout",
     "output_type": "stream",
     "text": [
      "Announcement of iPhone 14 by Apple Inc. featuring new features highlighted by CEO Tim Cook\n",
      "['Company', 'Product Announced', 'Key Personnel Mentioned']\n",
      "[{'entity': 'Apple Inc.', 'type': 'Organization'}, {'entity': 'iPhone 14', 'type': 'Product'}, {'entity': 'Tim Cook', 'type': 'Person'}]\n"
     ]
    }
   ],
   "source": [
    "class ExtractInfo(dspy.Signature):\n",
    "    \"\"\"Extract structured information from text.\"\"\"\n",
    "\n",
    "    text: str = dspy.InputField()\n",
    "    title: str = dspy.OutputField()\n",
    "    headings: list[str] = dspy.OutputField()\n",
    "    entities: list[dict[str, str]] = dspy.OutputField(desc=\"a list of entities and their metadata\")\n",
    "\n",
    "module = dspy.Predict(ExtractInfo)\n",
    "\n",
    "text = \"# Returns & Policy\" \\\n",
    "\"- Perishables (Produce, Seafood, Dairy): 3–7 days.\" \\\n",
    "\"- Beverages unopened: 14 days; opened: no returns.\" \\\n",
    "\"- Non-perishables: 30 days.\" \n",
    "response = module(text=text)\n",
    "\n",
    "print(response.title)\n",
    "print(response.headings)\n",
    "print(response.entities)"
   ]
  },
  {
   "cell_type": "code",
   "execution_count": null,
   "id": "f0ff9fcb",
   "metadata": {},
   "outputs": [
    {
     "name": "stdout",
     "output_type": "stream",
     "text": [
      "Question: During 'Summer Beverages 1997' as defined in the marketing calendar, which product category had the highest total quantity sold.\n",
      "SQL: SELECT c.CategoryName, SUM(od.Quantity) as TotalUnitsSold FROM Orders o JOIN OrderDetails od ON o.OrderID = od.OrderID JOIN Products p ON od.ProductID = p.ProductID JOIN Categories c ON p.CategoryID = c.CategoryID WHERE DATE_FORMAT(o.OrderDate, '%Y') = '1997' AND MONTHNAME(o.OrderDate) IN ('June', 'July', 'August') GROUP BY c.CategoryName ORDER BY TotalUnitsSold DESC LIMIT 1;\n",
      "--------------------------------------------------\n"
     ]
    }
   ],
   "source": [
    "\n",
    "import re\n",
    "# Simple SQL Generator signature\n",
    "class SimpleSQL(dspy.Signature):\n",
    "    \"\"\"Generate a SQL query from natural language using simple patterns.\"\"\"\n",
    "    \n",
    "    question = dspy.InputField(desc=\"The natural language question\")\n",
    "    schema_info = dspy.InputField(desc=\"Simple description of tables and columns\")\n",
    "    constraints = dspy.InputField(desc=\"Query constraints and requirements\")\n",
    "    \n",
    "    sql_query = dspy.OutputField(desc=\"The SQL query that answers the question\")\n",
    "\n",
    "\n",
    "class TextToSQL(dspy.Module):\n",
    "    def __init__(self):\n",
    "        super().__init__()\n",
    "        self.generator = dspy.Predict(SimpleSQL)\n",
    "        \n",
    "        # Store common table definitions as a simple string\n",
    "        self.schema_info = \"\"\"\n",
    "        Orders(OrderID, CustomerID, EmployeeID, OrderDate, …)\n",
    "        \"Order Details\"(OrderID, ProductID, UnitPrice, Quantity, Discount)\n",
    "        Products(ProductID, ProductName, SupplierID, CategoryID, UnitPrice, …)\n",
    "        Customers(CustomerID, CompanyName, Country, …)\n",
    "        Categories(CategoryID, CategoryName, Description)\n",
    "        \"\"\"\n",
    "        \n",
    "        # Define common constraints\n",
    "        self.constraints = \"\"\"\n",
    "        - Always use proper SQL syntax with semicolons at the end\n",
    "        - Use proper JOIN syntax when combining tables\n",
    "        - Use common retail metrics like revenue, margin, units_sold when appropriate\n",
    "        - For date ranges, prefer between syntax\n",
    "        \"\"\"\n",
    "    \n",
    "    def forward(self, question):\n",
    "        # Identify question type and add relevant constraints\n",
    "        question_constraints = self.constraints\n",
    "        \n",
    "        # Pattern matching to add specific constraints\n",
    "        if re.search(r'\\b(how many|count|total number)\\b', question, re.I):\n",
    "            question_constraints += \"\\n- Use COUNT() for counting results\"\n",
    "            \n",
    "        if re.search(r'\\b(average|avg)\\b', question, re.I):\n",
    "            question_constraints += \"\\n- Use AVG() for calculating averages\"\n",
    "            \n",
    "        if re.search(r'\\b(maximum|highest|most expensive|top)\\b', question, re.I):\n",
    "            question_constraints += \"\\n- Use ORDER BY and LIMIT for finding top values\"\n",
    "        \n",
    "        if re.search(r'\\b(group by|per|each)\\b', question, re.I):\n",
    "            question_constraints += \"\\n- Use GROUP BY for grouping results\"\n",
    "            q = \"duringiji\"\n",
    "            contsraints = {[\"date\":\"12-12867-182\",\"dates\":\"135573651\", \"category\":\"Beverages\"]}\n",
    "        \n",
    "\n",
    "        # Generate the SQL query\n",
    "        result = self.generator(\n",
    "            question=question,\n",
    "            schema_info=self.schema_info,\n",
    "            constraints=question_constraints\n",
    "        )\n",
    "        \n",
    "        return result.sql_query\n",
    "\n",
    "\n",
    "# Example usage\n",
    "if __name__ == \"__main__\":\n",
    "    converter = TextToSQL()\n",
    "    \n",
    "    # Test with various questions\n",
    "    questions = [\n",
    "        \"During 'Summer Beverages 1997' as defined in the marketing calendar, which product category had the highest total quantity sold.\",\n",
    "        \n",
    "    ]\n",
    "    \n",
    "    for question in questions:\n",
    "        sql = converter(question)\n",
    "        print(f\"Question: {question}\")\n",
    "        print(f\"SQL: {sql}\")\n",
    "        print(\"-\" * 50)"
   ]
  },
  {
   "cell_type": "code",
   "execution_count": 44,
   "id": "e597857a",
   "metadata": {},
   "outputs": [],
   "source": [
    "import dspy\n",
    "\n",
    "\n",
    "lm = dspy.LM(\"ollama_chat/phi3.5:3.8b-mini-instruct-q4_K_M\", api_base=\"http://localhost:11434\", api_key=\"\")\n",
    "dspy.configure(lm=lm)\n",
    "\n",
    "\n",
    "class RouterModule(dspy.Signature):\n",
    "    \"\"\"\n",
    "    Classify questions into the appropriate processing method:\n",
    "    - rag: For questions about policies, documents, guidelines, explanations, or content that would be in text files\n",
    "    - sql: For questions about structured data, counts, averages, or data that would be in database tables\n",
    "    - hybrid: For questions requiring both document knowledge and structured data\n",
    "    \"\"\"\n",
    "\n",
    "    question: str = dspy.InputField(desc=\"The user's question to classify\")\n",
    "    reasoning = dspy.OutputField(desc=\"Step-by-step reasoning about the classification\")\n",
    "    router = dspy.OutputField(desc=\"The classification of the question\",\n",
    "        choices=[\"rag\", \"sql\", \"hybrid\"])\n",
    "    confidence: float = dspy.OutputField(desc=\"Confidence score between 0 and 1\")\n",
    "\n",
    "    @staticmethod\n",
    "    def _router(question: str):\n",
    "        classify = dspy.Predict(RouterModule)\n",
    "        return classify(question=question)"
   ]
  },
  {
   "cell_type": "code",
   "execution_count": 45,
   "id": "e175c6c1",
   "metadata": {},
   "outputs": [],
   "source": [
    "def validate_category(example, prediction, trace=None):\n",
    "    return prediction.router == example.router\n",
    "\n",
    "# Create a proper DSPy Module for the router\n",
    "class RouterProgram(dspy.Module):\n",
    "    def __init__(self):\n",
    "        super().__init__()\n",
    "        self.classify = dspy.Predict(RouterModule)\n",
    "    \n",
    "    def forward(self, question):\n",
    "        return self.classify(question=question)\n",
    "\n",
    "# Create an instance of the module\n",
    "router_program = RouterProgram()\n",
    "\n",
    "# response = router(question=\"During 'Summer Beverages 1997' as defined in the marketing calendar, which product category had the highest total quantity sold.\")\n",
    "# print(response)"
   ]
  },
  {
   "cell_type": "code",
   "execution_count": 46,
   "id": "4ea62b38",
   "metadata": {},
   "outputs": [
    {
     "name": "stdout",
     "output_type": "stream",
     "text": [
      "Loaded 6 training examples.\n",
      "[Example({'question': 'According to the product policy, what is the return window (days) for unopened Beverages? Return an integer.', 'router': 'rag'}) (input_keys={'question'}), Example({'question': \"During 'Summer Beverages 1997' as defined in the marketing calendar, which product category had the highest total quantity sold? Return {category:str, quantity:int}.\", 'router': 'hybrid'}) (input_keys={'question'}), Example({'question': \"Using the AOV definition from the KPI docs, what was the Average Order Value during 'Winter Classics 1997\", 'router': 'hybrid'}) (input_keys={'question'}), Example({'question': 'Top 3 products by total revenue all-time. Revenue uses Order Details: SUM(UnitPrice*Quantity*(1-Discount)). Return list[{product:str, revenue:float}].', 'router': 'sql'}) (input_keys={'question'}), Example({'question': \"Total revenue from the 'Beverages' category during 'Summer Beverages 1997' dates. Return a float rounded to 2 decimals.\", 'router': 'hybrid'}) (input_keys={'question'}), Example({'question': 'Per the KPI definition of gross margin, who was the top customer by gross margin in 1997? Assume CostOfGoods is approximated by 70% of UnitPrice if not available. Return {customer:str, margin:float}.', 'router': 'hybrid'}) (input_keys={'question'})]\n",
      "Average Metric: 2.00 / 6 (33.3%): 100%|██████████| 6/6 [00:00<00:00, 127.75it/s]"
     ]
    },
    {
     "name": "stderr",
     "output_type": "stream",
     "text": [
      "2025/09/22 02:32:27 INFO dspy.evaluate.evaluate: Average Metric: 2 / 6 (33.3%)\n"
     ]
    },
    {
     "name": "stdout",
     "output_type": "stream",
     "text": [
      "\n"
     ]
    },
    {
     "data": {
      "text/html": [
       "<div>\n",
       "<style scoped>\n",
       "    .dataframe tbody tr th:only-of-type {\n",
       "        vertical-align: middle;\n",
       "    }\n",
       "\n",
       "    .dataframe tbody tr th {\n",
       "        vertical-align: top;\n",
       "    }\n",
       "\n",
       "    .dataframe thead th {\n",
       "        text-align: right;\n",
       "    }\n",
       "</style>\n",
       "<table border=\"1\" class=\"dataframe\">\n",
       "  <thead>\n",
       "    <tr style=\"text-align: right;\">\n",
       "      <th></th>\n",
       "      <th>question</th>\n",
       "      <th>example_router</th>\n",
       "      <th>reasoning</th>\n",
       "      <th>pred_router</th>\n",
       "      <th>confidence</th>\n",
       "      <th>validate_category</th>\n",
       "    </tr>\n",
       "  </thead>\n",
       "  <tbody>\n",
       "    <tr>\n",
       "      <th>0</th>\n",
       "      <td>According to the product policy, what is the return window (days) ...</td>\n",
       "      <td>rag</td>\n",
       "      <td>The question is asking for specific information regarding company ...</td>\n",
       "      <td>rag</td>\n",
       "      <td>0.95</td>\n",
       "      <td>✔️ [True]</td>\n",
       "    </tr>\n",
       "    <tr>\n",
       "      <th>1</th>\n",
       "      <td>During 'Summer Beverages 1997' as defined in the marketing calenda...</td>\n",
       "      <td>hybrid</td>\n",
       "      <td>The question is asking for specific data from an event, likely doc...</td>\n",
       "      <td>sql</td>\n",
       "      <td>0.95</td>\n",
       "      <td></td>\n",
       "    </tr>\n",
       "    <tr>\n",
       "      <th>2</th>\n",
       "      <td>Using the AOV definition from the KPI docs, what was the Average O...</td>\n",
       "      <td>hybrid</td>\n",
       "      <td>The question asks about specific financial data, namely \"Average O...</td>\n",
       "      <td>sql</td>\n",
       "      <td>0.95</td>\n",
       "      <td></td>\n",
       "    </tr>\n",
       "    <tr>\n",
       "      <th>3</th>\n",
       "      <td>Top 3 products by total revenue all-time. Revenue uses Order Detai...</td>\n",
       "      <td>sql</td>\n",
       "      <td>The question requires aggregating data from an Order Details table...</td>\n",
       "      <td>sql</td>\n",
       "      <td>0.98</td>\n",
       "      <td>✔️ [True]</td>\n",
       "    </tr>\n",
       "    <tr>\n",
       "      <th>4</th>\n",
       "      <td>Total revenue from the 'Beverages' category during 'Summer Beverag...</td>\n",
       "      <td>hybrid</td>\n",
       "      <td>The question is asking for specific financial data, which typicall...</td>\n",
       "      <td>sql</td>\n",
       "      <td>0.95</td>\n",
       "      <td></td>\n",
       "    </tr>\n",
       "  </tbody>\n",
       "</table>\n",
       "</div>"
      ],
      "text/plain": [
       "                                                                question  \\\n",
       "0  According to the product policy, what is the return window (days) ...   \n",
       "1  During 'Summer Beverages 1997' as defined in the marketing calenda...   \n",
       "2  Using the AOV definition from the KPI docs, what was the Average O...   \n",
       "3  Top 3 products by total revenue all-time. Revenue uses Order Detai...   \n",
       "4  Total revenue from the 'Beverages' category during 'Summer Beverag...   \n",
       "\n",
       "  example_router  \\\n",
       "0            rag   \n",
       "1         hybrid   \n",
       "2         hybrid   \n",
       "3            sql   \n",
       "4         hybrid   \n",
       "\n",
       "                                                               reasoning  \\\n",
       "0  The question is asking for specific information regarding company ...   \n",
       "1  The question is asking for specific data from an event, likely doc...   \n",
       "2  The question asks about specific financial data, namely \"Average O...   \n",
       "3  The question requires aggregating data from an Order Details table...   \n",
       "4  The question is asking for specific financial data, which typicall...   \n",
       "\n",
       "  pred_router  confidence validate_category  \n",
       "0         rag        0.95         ✔️ [True]  \n",
       "1         sql        0.95                    \n",
       "2         sql        0.95                    \n",
       "3         sql        0.98         ✔️ [True]  \n",
       "4         sql        0.95                    "
      ]
     },
     "metadata": {},
     "output_type": "display_data"
    },
    {
     "data": {
      "text/html": [
       "\n",
       "            <div style='\n",
       "                text-align: center;\n",
       "                font-size: 16px;\n",
       "                font-weight: bold;\n",
       "                color: #555;\n",
       "                margin: 10px 0;'>\n",
       "                ... 1 more rows not displayed ...\n",
       "            </div>\n",
       "            "
      ],
      "text/plain": [
       "<IPython.core.display.HTML object>"
      ]
     },
     "metadata": {},
     "output_type": "display_data"
    },
    {
     "data": {
      "text/plain": [
       "EvaluationResult(score=33.33, results=<list of 6 results>)"
      ]
     },
     "execution_count": 46,
     "metadata": {},
     "output_type": "execute_result"
    }
   ],
   "source": [
    "import csv\n",
    "import json\n",
    "import dspy\n",
    "from dspy.evaluate import Evaluate\n",
    "\n",
    "\n",
    "# Load the trainset\n",
    "trainset = []\n",
    "with open('/Users/sreerajnair/my_space/my_space/QnA_Assistant_Using_DSPy_and_LangGraph-main/dataset.json', 'r') as file:\n",
    "    reader = json.load(file)\n",
    "    for row in reader:\n",
    "        example = dspy.Example(question=row['question'], router=row['route']).with_inputs(\"question\") \n",
    "        trainset.append(example)\n",
    "\n",
    "print(f\"Loaded {len(trainset)} training examples.\")\n",
    "print(trainset)\n",
    "\n",
    "# Evaluate our existing function\n",
    "evaluator = Evaluate(devset=trainset, num_threads=1, display_progress=True, display_table=5)\n",
    "evaluator(router_program, metric=validate_category)"
   ]
  },
  {
   "cell_type": "code",
   "execution_count": 47,
   "id": "4ab2e2a3",
   "metadata": {},
   "outputs": [
    {
     "name": "stderr",
     "output_type": "stream",
     "text": [
      "2025/09/22 02:32:34 INFO dspy.teleprompt.mipro_optimizer_v2: \n",
      "RUNNING WITH THE FOLLOWING LIGHT AUTO RUN SETTINGS:\n",
      "num_trials: 10\n",
      "minibatch: False\n",
      "num_fewshot_candidates: 6\n",
      "num_instruct_candidates: 3\n",
      "valset size: 4\n",
      "\n",
      "2025/09/22 02:32:34 INFO dspy.teleprompt.mipro_optimizer_v2: \n",
      "==> STEP 1: BOOTSTRAP FEWSHOT EXAMPLES <==\n",
      "2025/09/22 02:32:34 INFO dspy.teleprompt.mipro_optimizer_v2: These will be used for informing instruction proposal.\n",
      "\n",
      "2025/09/22 02:32:34 INFO dspy.teleprompt.mipro_optimizer_v2: Bootstrapping N=6 sets of demonstrations...\n"
     ]
    },
    {
     "name": "stdout",
     "output_type": "stream",
     "text": [
      "Bootstrapping set 1/6\n",
      "Bootstrapping set 2/6\n"
     ]
    },
    {
     "name": "stderr",
     "output_type": "stream",
     "text": [
      "100%|██████████| 2/2 [00:00<00:00, 47.13it/s]\n"
     ]
    },
    {
     "name": "stdout",
     "output_type": "stream",
     "text": [
      "Bootstrapped 1 full traces after 1 examples for up to 1 rounds, amounting to 2 attempts.\n",
      "Bootstrapping set 3/6\n"
     ]
    },
    {
     "name": "stderr",
     "output_type": "stream",
     "text": [
      "100%|██████████| 2/2 [00:00<00:00, 72.82it/s]\n"
     ]
    },
    {
     "name": "stdout",
     "output_type": "stream",
     "text": [
      "Bootstrapped 1 full traces after 1 examples for up to 1 rounds, amounting to 2 attempts.\n",
      "Bootstrapping set 4/6\n"
     ]
    },
    {
     "name": "stderr",
     "output_type": "stream",
     "text": [
      "100%|██████████| 2/2 [00:00<00:00, 82.99it/s]\n"
     ]
    },
    {
     "name": "stdout",
     "output_type": "stream",
     "text": [
      "Bootstrapped 1 full traces after 1 examples for up to 1 rounds, amounting to 2 attempts.\n",
      "Bootstrapping set 5/6\n"
     ]
    },
    {
     "name": "stderr",
     "output_type": "stream",
     "text": [
      "100%|██████████| 2/2 [00:00<00:00, 69.71it/s]\n"
     ]
    },
    {
     "name": "stdout",
     "output_type": "stream",
     "text": [
      "Bootstrapped 1 full traces after 1 examples for up to 1 rounds, amounting to 2 attempts.\n",
      "Bootstrapping set 6/6\n"
     ]
    },
    {
     "name": "stderr",
     "output_type": "stream",
     "text": [
      "100%|██████████| 2/2 [00:00<00:00, 59.53it/s]\n",
      "2025/09/22 02:32:34 INFO dspy.teleprompt.mipro_optimizer_v2: \n",
      "==> STEP 2: PROPOSE INSTRUCTION CANDIDATES <==\n",
      "2025/09/22 02:32:34 INFO dspy.teleprompt.mipro_optimizer_v2: We will use the few-shot examples from the previous step, a generated dataset summary, a summary of the program code, and a randomly selected prompting tip to propose instructions.\n"
     ]
    },
    {
     "name": "stdout",
     "output_type": "stream",
     "text": [
      "Bootstrapped 1 full traces after 1 examples for up to 1 rounds, amounting to 2 attempts.\n",
      "class RouterModule(dspy.Signature):\n",
      "    \"\"\"\n",
      "    Classify questions into the appropriate processing method:\n",
      "    - rag: For questions about policies, documents, guidelines, explanations, or content that would be in text files\n",
      "    - sql: For questions about structured data, counts, averages, or data that would be in database tables\n",
      "    - hybrid: For questions requiring both document knowledge and structured data\n",
      "    \"\"\"\n",
      "\n",
      "    question: str = dspy.InputField(desc=\"The user's question to classify\")\n",
      "    reasoning = dspy.OutputField(desc=\"Step-by-step reasoning about the classification\")\n",
      "    router = dspy.OutputField(desc=\"The classification of the question\",\n",
      "        choices=[\"rag\", \"sql\", \"hybrid\"])\n",
      "    confidence: float = dspy.OutputField(desc=\"Confidence score between 0 and 1\")\n",
      "\n",
      "    @staticmethod\n",
      "    def _router(question: str):\n",
      "        classify = dspy.Predict(RouterModule)\n",
      "        return classify(question=question)\n",
      "\n"
     ]
    },
    {
     "name": "stderr",
     "output_type": "stream",
     "text": [
      "2025/09/22 02:32:48 INFO dspy.teleprompt.mipro_optimizer_v2: \n",
      "Proposing N=3 instructions...\n",
      "\n",
      "2025/09/22 02:35:01 INFO dspy.teleprompt.mipro_optimizer_v2: Proposed Instructions for Predictor 0:\n",
      "\n",
      "2025/09/22 02:35:01 INFO dspy.teleprompt.mipro_optimizer_v2: 0: Classify questions into the appropriate processing method:\n",
      "- rag: For questions about policies, documents, guidelines, explanations, or content that would be in text files\n",
      "- sql: For questions about structured data, counts, averages, or data that would be in database tables\n",
      "- hybrid: For questions requiring both document knowledge and structured data\n",
      "\n",
      "2025/09/22 02:35:01 INFO dspy.teleprompt.mipro_optimizer_v2: 1: As an expert analyst specializing in retail policy interpretation, please classify the question 'What is the maximum number of days allowed for returns on unopened Beverages according to our product guidelines?' by identifying whether it requires reading and interpreting text-based documents ('rag'), extracting structured data from databases ('sql'), or a combination thereof involving both document knowledge and database interaction ('hybrid'). Provide the reasoning behind your classification decision, along with an estimated confidence level.\n",
      "\n",
      "2025/09/22 02:35:01 INFO dspy.teleprompt.mipro_optimizer_v2: 2: As an analyst specializing in retail policies, classify the given question regarding product policy return windows for unopened Beverages into one of our processing methods. Determine if it requires understanding rules and guidelines typically found in text documents ('rag'), structured data queries against databases ('sql'), or a combination approach that involves both document knowledge and structured formats ('hybrid'). Provide reasoning, the classification label (rag, sql, hybrid), along with confidence scores reflecting prediction certainty.\n",
      "\n",
      "2025/09/22 02:35:01 INFO dspy.teleprompt.mipro_optimizer_v2: \n",
      "\n",
      "/Users/sreerajnair/my_space/my_space/QnA_Assistant_Using_DSPy_and_LangGraph-main/.venv/lib/python3.10/site-packages/tqdm/auto.py:21: TqdmWarning: IProgress not found. Please update jupyter and ipywidgets. See https://ipywidgets.readthedocs.io/en/stable/user_install.html\n",
      "  from .autonotebook import tqdm as notebook_tqdm\n",
      "2025/09/22 02:35:01 INFO dspy.teleprompt.mipro_optimizer_v2: ==> STEP 3: FINDING OPTIMAL PROMPT PARAMETERS <==\n",
      "2025/09/22 02:35:01 INFO dspy.teleprompt.mipro_optimizer_v2: We will evaluate the program over a series of trials with different combinations of instructions and few-shot examples to find the optimal combination using Bayesian Optimization.\n",
      "\n",
      "2025/09/22 02:35:01 INFO dspy.teleprompt.mipro_optimizer_v2: == Trial 1 / 10 - Full Evaluation of Default Program ==\n"
     ]
    },
    {
     "name": "stdout",
     "output_type": "stream",
     "text": [
      "Average Metric: 1.00 / 4 (25.0%): 100%|██████████| 4/4 [00:00<00:00, 99.27it/s]"
     ]
    },
    {
     "name": "stderr",
     "output_type": "stream",
     "text": [
      "2025/09/22 02:35:01 INFO dspy.evaluate.evaluate: Average Metric: 1 / 4 (25.0%)\n",
      "2025/09/22 02:35:01 INFO dspy.teleprompt.mipro_optimizer_v2: Default program score: 25.0\n",
      "\n",
      "/Users/sreerajnair/my_space/my_space/QnA_Assistant_Using_DSPy_and_LangGraph-main/.venv/lib/python3.10/site-packages/optuna/_experimental.py:32: ExperimentalWarning: Argument ``multivariate`` is an experimental feature. The interface can change in the future.\n",
      "  warnings.warn(\n",
      "2025/09/22 02:35:01 INFO dspy.teleprompt.mipro_optimizer_v2: ===== Trial 2 / 10 =====\n"
     ]
    },
    {
     "name": "stdout",
     "output_type": "stream",
     "text": [
      "\n",
      "Average Metric: 1.00 / 4 (25.0%): 100%|██████████| 4/4 [00:17<00:00,  4.40s/it] "
     ]
    },
    {
     "name": "stderr",
     "output_type": "stream",
     "text": [
      "2025/09/22 02:35:19 INFO dspy.evaluate.evaluate: Average Metric: 1 / 4 (25.0%)\n",
      "2025/09/22 02:35:19 INFO dspy.teleprompt.mipro_optimizer_v2: Score: 25.0 with parameters ['Predictor 0: Instruction 1', 'Predictor 0: Few-Shot Set 3'].\n",
      "2025/09/22 02:35:19 INFO dspy.teleprompt.mipro_optimizer_v2: Scores so far: [25.0, 25.0]\n",
      "2025/09/22 02:35:19 INFO dspy.teleprompt.mipro_optimizer_v2: Best score so far: 25.0\n",
      "2025/09/22 02:35:19 INFO dspy.teleprompt.mipro_optimizer_v2: ========================\n",
      "\n",
      "\n",
      "2025/09/22 02:35:19 INFO dspy.teleprompt.mipro_optimizer_v2: ===== Trial 3 / 10 =====\n"
     ]
    },
    {
     "name": "stdout",
     "output_type": "stream",
     "text": [
      "\n",
      "Average Metric: 3.00 / 4 (75.0%): 100%|██████████| 4/4 [00:36<00:00,  9.03s/it] "
     ]
    },
    {
     "name": "stderr",
     "output_type": "stream",
     "text": [
      "2025/09/22 02:35:55 INFO dspy.evaluate.evaluate: Average Metric: 3 / 4 (75.0%)\n",
      "2025/09/22 02:35:55 INFO dspy.teleprompt.mipro_optimizer_v2: \u001b[92mBest full score so far!\u001b[0m Score: 75.0\n",
      "2025/09/22 02:35:55 INFO dspy.teleprompt.mipro_optimizer_v2: Score: 75.0 with parameters ['Predictor 0: Instruction 2', 'Predictor 0: Few-Shot Set 0'].\n",
      "2025/09/22 02:35:55 INFO dspy.teleprompt.mipro_optimizer_v2: Scores so far: [25.0, 25.0, 75.0]\n",
      "2025/09/22 02:35:55 INFO dspy.teleprompt.mipro_optimizer_v2: Best score so far: 75.0\n",
      "2025/09/22 02:35:55 INFO dspy.teleprompt.mipro_optimizer_v2: ========================\n",
      "\n",
      "\n",
      "2025/09/22 02:35:55 INFO dspy.teleprompt.mipro_optimizer_v2: ===== Trial 4 / 10 =====\n"
     ]
    },
    {
     "name": "stdout",
     "output_type": "stream",
     "text": [
      "\n",
      "Average Metric: 1.00 / 4 (25.0%): 100%|██████████| 4/4 [00:00<00:00, 117.56it/s]"
     ]
    },
    {
     "name": "stderr",
     "output_type": "stream",
     "text": [
      "2025/09/22 02:35:55 INFO dspy.evaluate.evaluate: Average Metric: 1 / 4 (25.0%)\n",
      "2025/09/22 02:35:55 INFO dspy.teleprompt.mipro_optimizer_v2: Score: 25.0 with parameters ['Predictor 0: Instruction 1', 'Predictor 0: Few-Shot Set 5'].\n",
      "2025/09/22 02:35:55 INFO dspy.teleprompt.mipro_optimizer_v2: Scores so far: [25.0, 25.0, 75.0, 25.0]\n",
      "2025/09/22 02:35:55 INFO dspy.teleprompt.mipro_optimizer_v2: Best score so far: 75.0\n",
      "2025/09/22 02:35:55 INFO dspy.teleprompt.mipro_optimizer_v2: ========================\n",
      "\n",
      "\n",
      "2025/09/22 02:35:55 INFO dspy.teleprompt.mipro_optimizer_v2: ===== Trial 5 / 10 =====\n"
     ]
    },
    {
     "name": "stdout",
     "output_type": "stream",
     "text": [
      "\n",
      "Average Metric: 3.00 / 4 (75.0%): 100%|██████████| 4/4 [00:15<00:00,  4.00s/it] "
     ]
    },
    {
     "name": "stderr",
     "output_type": "stream",
     "text": [
      "2025/09/22 02:36:11 INFO dspy.evaluate.evaluate: Average Metric: 3 / 4 (75.0%)\n",
      "2025/09/22 02:36:11 INFO dspy.teleprompt.mipro_optimizer_v2: Score: 75.0 with parameters ['Predictor 0: Instruction 2', 'Predictor 0: Few-Shot Set 2'].\n",
      "2025/09/22 02:36:11 INFO dspy.teleprompt.mipro_optimizer_v2: Scores so far: [25.0, 25.0, 75.0, 25.0, 75.0]\n",
      "2025/09/22 02:36:11 INFO dspy.teleprompt.mipro_optimizer_v2: Best score so far: 75.0\n",
      "2025/09/22 02:36:11 INFO dspy.teleprompt.mipro_optimizer_v2: ========================\n",
      "\n",
      "\n",
      "2025/09/22 02:36:11 INFO dspy.teleprompt.mipro_optimizer_v2: ===== Trial 6 / 10 =====\n"
     ]
    },
    {
     "name": "stdout",
     "output_type": "stream",
     "text": [
      "\n",
      "Average Metric: 2.00 / 4 (50.0%): 100%|██████████| 4/4 [00:13<00:00,  3.44s/it]"
     ]
    },
    {
     "name": "stderr",
     "output_type": "stream",
     "text": [
      "2025/09/22 02:36:25 INFO dspy.evaluate.evaluate: Average Metric: 2 / 4 (50.0%)\n",
      "2025/09/22 02:36:25 INFO dspy.teleprompt.mipro_optimizer_v2: Score: 50.0 with parameters ['Predictor 0: Instruction 0', 'Predictor 0: Few-Shot Set 5'].\n",
      "2025/09/22 02:36:25 INFO dspy.teleprompt.mipro_optimizer_v2: Scores so far: [25.0, 25.0, 75.0, 25.0, 75.0, 50.0]\n",
      "2025/09/22 02:36:25 INFO dspy.teleprompt.mipro_optimizer_v2: Best score so far: 75.0\n",
      "2025/09/22 02:36:25 INFO dspy.teleprompt.mipro_optimizer_v2: ========================\n",
      "\n",
      "\n",
      "2025/09/22 02:36:25 INFO dspy.teleprompt.mipro_optimizer_v2: ===== Trial 7 / 10 =====\n"
     ]
    },
    {
     "name": "stdout",
     "output_type": "stream",
     "text": [
      "\n",
      "Average Metric: 3.00 / 4 (75.0%): 100%|██████████| 4/4 [00:00<00:00, 117.21it/s]"
     ]
    },
    {
     "name": "stderr",
     "output_type": "stream",
     "text": [
      "2025/09/22 02:36:25 INFO dspy.evaluate.evaluate: Average Metric: 3 / 4 (75.0%)\n",
      "2025/09/22 02:36:25 INFO dspy.teleprompt.mipro_optimizer_v2: Score: 75.0 with parameters ['Predictor 0: Instruction 2', 'Predictor 0: Few-Shot Set 0'].\n",
      "2025/09/22 02:36:25 INFO dspy.teleprompt.mipro_optimizer_v2: Scores so far: [25.0, 25.0, 75.0, 25.0, 75.0, 50.0, 75.0]\n",
      "2025/09/22 02:36:25 INFO dspy.teleprompt.mipro_optimizer_v2: Best score so far: 75.0\n",
      "2025/09/22 02:36:25 INFO dspy.teleprompt.mipro_optimizer_v2: ========================\n",
      "\n",
      "\n",
      "2025/09/22 02:36:25 INFO dspy.teleprompt.mipro_optimizer_v2: ===== Trial 8 / 10 =====\n"
     ]
    },
    {
     "name": "stdout",
     "output_type": "stream",
     "text": [
      "\n",
      "Average Metric: 3.00 / 4 (75.0%): 100%|██████████| 4/4 [00:00<00:00, 184.08it/s]"
     ]
    },
    {
     "name": "stderr",
     "output_type": "stream",
     "text": [
      "2025/09/22 02:36:25 INFO dspy.evaluate.evaluate: Average Metric: 3 / 4 (75.0%)\n",
      "2025/09/22 02:36:25 INFO dspy.teleprompt.mipro_optimizer_v2: Score: 75.0 with parameters ['Predictor 0: Instruction 2', 'Predictor 0: Few-Shot Set 5'].\n",
      "2025/09/22 02:36:25 INFO dspy.teleprompt.mipro_optimizer_v2: Scores so far: [25.0, 25.0, 75.0, 25.0, 75.0, 50.0, 75.0, 75.0]\n",
      "2025/09/22 02:36:25 INFO dspy.teleprompt.mipro_optimizer_v2: Best score so far: 75.0\n",
      "2025/09/22 02:36:25 INFO dspy.teleprompt.mipro_optimizer_v2: ========================\n",
      "\n",
      "\n",
      "2025/09/22 02:36:25 INFO dspy.teleprompt.mipro_optimizer_v2: ===== Trial 9 / 10 =====\n"
     ]
    },
    {
     "name": "stdout",
     "output_type": "stream",
     "text": [
      "\n",
      "Average Metric: 1.00 / 4 (25.0%): 100%|██████████| 4/4 [00:00<00:00, 158.14it/s]"
     ]
    },
    {
     "name": "stderr",
     "output_type": "stream",
     "text": [
      "2025/09/22 02:36:25 INFO dspy.evaluate.evaluate: Average Metric: 1 / 4 (25.0%)\n",
      "2025/09/22 02:36:25 INFO dspy.teleprompt.mipro_optimizer_v2: Score: 25.0 with parameters ['Predictor 0: Instruction 1', 'Predictor 0: Few-Shot Set 4'].\n",
      "2025/09/22 02:36:25 INFO dspy.teleprompt.mipro_optimizer_v2: Scores so far: [25.0, 25.0, 75.0, 25.0, 75.0, 50.0, 75.0, 75.0, 25.0]\n",
      "2025/09/22 02:36:25 INFO dspy.teleprompt.mipro_optimizer_v2: Best score so far: 75.0\n",
      "2025/09/22 02:36:25 INFO dspy.teleprompt.mipro_optimizer_v2: ========================\n",
      "\n",
      "\n",
      "2025/09/22 02:36:25 INFO dspy.teleprompt.mipro_optimizer_v2: ===== Trial 10 / 10 =====\n"
     ]
    },
    {
     "name": "stdout",
     "output_type": "stream",
     "text": [
      "\n",
      "Average Metric: 3.00 / 4 (75.0%): 100%|██████████| 4/4 [00:00<00:00, 162.88it/s]"
     ]
    },
    {
     "name": "stderr",
     "output_type": "stream",
     "text": [
      "2025/09/22 02:36:25 INFO dspy.evaluate.evaluate: Average Metric: 3 / 4 (75.0%)\n",
      "2025/09/22 02:36:25 INFO dspy.teleprompt.mipro_optimizer_v2: Score: 75.0 with parameters ['Predictor 0: Instruction 2', 'Predictor 0: Few-Shot Set 5'].\n",
      "2025/09/22 02:36:25 INFO dspy.teleprompt.mipro_optimizer_v2: Scores so far: [25.0, 25.0, 75.0, 25.0, 75.0, 50.0, 75.0, 75.0, 25.0, 75.0]\n",
      "2025/09/22 02:36:25 INFO dspy.teleprompt.mipro_optimizer_v2: Best score so far: 75.0\n",
      "2025/09/22 02:36:25 INFO dspy.teleprompt.mipro_optimizer_v2: =========================\n",
      "\n",
      "\n",
      "2025/09/22 02:36:25 INFO dspy.teleprompt.mipro_optimizer_v2: ===== Trial 11 / 10 =====\n"
     ]
    },
    {
     "name": "stdout",
     "output_type": "stream",
     "text": [
      "\n",
      "Average Metric: 3.00 / 4 (75.0%): 100%|██████████| 4/4 [00:00<00:00, 162.74it/s]"
     ]
    },
    {
     "name": "stderr",
     "output_type": "stream",
     "text": [
      "2025/09/22 02:36:25 INFO dspy.evaluate.evaluate: Average Metric: 3 / 4 (75.0%)\n",
      "2025/09/22 02:36:25 INFO dspy.teleprompt.mipro_optimizer_v2: Score: 75.0 with parameters ['Predictor 0: Instruction 2', 'Predictor 0: Few-Shot Set 3'].\n",
      "2025/09/22 02:36:25 INFO dspy.teleprompt.mipro_optimizer_v2: Scores so far: [25.0, 25.0, 75.0, 25.0, 75.0, 50.0, 75.0, 75.0, 25.0, 75.0, 75.0]\n",
      "2025/09/22 02:36:25 INFO dspy.teleprompt.mipro_optimizer_v2: Best score so far: 75.0\n",
      "2025/09/22 02:36:25 INFO dspy.teleprompt.mipro_optimizer_v2: =========================\n",
      "\n",
      "\n",
      "2025/09/22 02:36:25 INFO dspy.teleprompt.mipro_optimizer_v2: Returning best identified program with score 75.0!\n"
     ]
    },
    {
     "name": "stdout",
     "output_type": "stream",
     "text": [
      "\n"
     ]
    }
   ],
   "source": [
    "# Now use this module with MIPROv2\n",
    "tp = dspy.MIPROv2(metric=validate_category, auto=\"light\")\n",
    "optimized_classify = tp.compile(router_program, trainset=trainset, max_labeled_demos=0, max_bootstrapped_demos=0)"
   ]
  }
 ],
 "metadata": {
  "kernelspec": {
   "display_name": ".venv",
   "language": "python",
   "name": "python3"
  },
  "language_info": {
   "codemirror_mode": {
    "name": "ipython",
    "version": 3
   },
   "file_extension": ".py",
   "mimetype": "text/x-python",
   "name": "python",
   "nbconvert_exporter": "python",
   "pygments_lexer": "ipython3",
   "version": "3.10.18"
  }
 },
 "nbformat": 4,
 "nbformat_minor": 5
}
